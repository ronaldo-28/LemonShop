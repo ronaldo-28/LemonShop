{
  "nbformat": 4,
  "nbformat_minor": 0,
  "metadata": {
    "colab": {
      "provenance": [],
      "authorship_tag": "ABX9TyPWyAMqbadmoC5c8ezGd+e2",
      "include_colab_link": true
    },
    "kernelspec": {
      "name": "python3",
      "display_name": "Python 3"
    },
    "language_info": {
      "name": "python"
    }
  },
  "cells": [
    {
      "cell_type": "markdown",
      "metadata": {
        "id": "view-in-github",
        "colab_type": "text"
      },
      "source": [
        "<a href=\"https://colab.research.google.com/github/ronaldo-28/LemonShop/blob/main/Tools_For_data_science.ipynb\" target=\"_parent\"><img src=\"https://colab.research.google.com/assets/colab-badge.svg\" alt=\"Open In Colab\"/></a>"
      ]
    },
    {
      "cell_type": "markdown",
      "source": [
        "# **Tools For data science**"
      ],
      "metadata": {
        "id": "QOMordspNJ8i"
      }
    },
    {
      "cell_type": "markdown",
      "source": [
        "Introduction"
      ],
      "metadata": {
        "id": "e_sDOwcjNgtd"
      }
    },
    {
      "cell_type": "markdown",
      "source": [
        "here are some of the most commonly used languages in data science:\n",
        "\n",
        "Python: Python is a high-level, interpreted programming language. It is known for its simplicity and readability. Python has a wide range of libraries and frameworks for data science such as NumPy, pandas, and scikit-learn.\n",
        "\n",
        "R: R is a language and environment for statistical computing and graphics. It provides a wide variety of statistical and graphical techniques.\n",
        "\n",
        "SQL: SQL (Structured Query Language) is a programming language used to communicate with and manipulate databases. It is essential for managing and organizing data.\n",
        "\n",
        "Java: Java is a general-purpose programming language that is class-based and object-oriented. It is designed to have as few implementation dependencies as possible.\n",
        "\n",
        "SAS: SAS (Statistical Analysis System) is a software suite developed by SAS Institute for advanced analytics, multivariate analyses, business intelligence, data management, and predictive analytics.\n",
        "\n",
        "Julia: Julia is a high-level, high-performance dynamic language for technical computing. It provides a sophisticated compiler, distributed parallel execution, numerical accuracy, and an extensive mathematical function library.\n",
        "\n",
        "Scala: Scala is a high-level language that is both object-oriented and functional. It is particularly useful in a distributed computing environment.\n",
        "\n",
        "MATLAB: MATLAB is a high-performance language for technical computing. It integrates computation, visualization, and programming in an easy-to-use environment where problems and solutions are expressed in familiar mathematical notation.\n",
        "\n",
        "TensorFlow: TensorFlow is a free and open-source software library for machine learning and artificial intelligence. It can be used across a range of tasks but has a particular focus on training and inference of deep neural networks.\n",
        "\n",
        "C++: C++ is a general-purpose programming language that has imperative, object-oriented and generic programming features. It is used in data science for high performance tasks."
      ],
      "metadata": {
        "id": "rmUlHVt3Phbp"
      }
    },
    {
      "cell_type": "markdown",
      "source": [
        "Python:\n",
        "\n",
        "Pandas: Provides high-performance, easy-to-use data structures and data analysis tools.\n",
        "NumPy: Supports large, multi-dimensional arrays and matrices, along with a large collection of high-level mathematical functions to operate on these arrays.\n",
        "SciPy: Used for scientific computing and technical computing. It contains modules for optimization, linear algebra, integration, interpolation, special functions, FFT, signal and image processing, ODE solvers and more.\n",
        "Matplotlib: A plotting library for creating static, animated, and interactive visualizations in Python.\n",
        "Seaborn: Based on Matplotlib, Seaborn helps you create beautiful and informative statistical graphics.\n",
        "Scikit-learn: Simple and efficient tools for predictive data analysis. It features various classification, regression and clustering algorithms.\n",
        "TensorFlow: An end-to-end open source platform for machine learning.\n",
        "Keras: A high-level neural networks API, written in Python and capable of running on top of TensorFlow, CNTK, or Theano.\n",
        "PyTorch: An open source machine learning library based on the Torch library, used for applications such as computer vision and natural language processing.\n",
        "R:\n",
        "\n",
        "dplyr: A fast, consistent tool for working with data frame like objects, both in memory and out of memory.\n",
        "ggplot2: A system for declaratively creating graphics, based on The Grammar of Graphics.\n",
        "tidyverse: An opinionated collection of R packages designed for data science.\n",
        "caret: Classification and Regression Training: Unified interface to hundreds of ML algorithms in R.\n",
        "shiny: Makes it incredibly easy to build interactive web applications with R.\n",
        "Julia:\n",
        "\n",
        "DataFrames.jl: Library for working with tabular data in Julia.\n",
        "Plots.jl: Powerful convenience for visualization in Julia.\n",
        "MLJ.jl: A toolbox for machine learning in Julia.\n",
        "Flux.jl: Elegant machine learning stack."
      ],
      "metadata": {
        "id": "HYJ9akTnP6q2"
      }
    },
    {
      "cell_type": "markdown",
      "source": [
        "| Tool | Category | Description |\n",
        "| --- | --- | --- |\n",
        "| Python | Programming Language | High-level, interpreted programming language known for its simplicity and readability. Widely used in Data Science. |\n",
        "| R | Programming Language | Language and environment for statistical computing and graphics. |\n",
        "| SQL | Programming Language | Language used to communicate with and manipulate databases. |\n",
        "| Jupyter Notebook | IDE | Open-source web application that allows creation and sharing of documents that contain live code, equations, visualizations, and narrative text. |\n",
        "| Tableau | Data Visualization | Interactive data visualization software focused on business intelligence. |\n",
        "| TensorFlow | Machine Learning Library | Open-source platform for machine learning. |\n",
        "| Scikit-learn | Machine Learning Library | Simple and efficient tools for predictive data analysis. |\n",
        "| Keras | Deep Learning Library | High-level neural networks API capable of running on top of TensorFlow. |\n",
        "| PyTorch | Machine Learning Library | Open-source machine learning library based on the Torch library. |\n",
        "| Pandas | Data Analysis Library | Offers data structures and operations for manipulating numerical tables and time series. |\n",
        "| Matplotlib | Data Visualization Library | Plotting library for creating static, animated, and interactive visualizations in Python. |\n",
        "| Seaborn | Data Visualization Library | Based on Matplotlib, helps you create beautiful and informative statistical graphics. |\n",
        "| Numpy | Scientific Computing Library | Supports large, multi-dimensional arrays and matrices, along with a large collection of high-level mathematical functions to operate on these arrays. |\n",
        "| Excel | Spreadsheet | Software program produced by Microsoft that allows users to organize, format, and calculate data with formulas using a spreadsheet system. |\n"
      ],
      "metadata": {
        "id": "3EWK5lDJS5i9"
      }
    },
    {
      "cell_type": "markdown",
      "source": [
        "here are some examples of arithmetic expressions:\n",
        "\n",
        "Addition (+): The + operator adds two numbers together.\n",
        "\n",
        "Example: 3 + 2 equals 5.\n",
        "Subtraction (-): The - operator subtracts the second number from the first.\n",
        "\n",
        "Example: 7 - 4 equals 3.\n",
        "Multiplication (*): The * operator multiplies two numbers.\n",
        "\n",
        "Example: 6 * 3 equals 18.\n",
        "Division (/): The / operator divides the first number by the second number.\n",
        "\n",
        "Example: 8 / 2 equals 4.\n",
        "Modulus (%): The % operator returns the remainder of the first number divided by the second number.\n",
        "\n",
        "Example: 10 % 3 equals 1.\n",
        "Exponentiation (**): The ** operator raises the first number to the power of the second number.\n",
        "\n",
        "Example: 2 ** 3 equals 8.\n",
        "Floor Division (//): The // operator divides the first number by the second number and rounds down to the nearest whole number.\n",
        "\n",
        "Example: 7 // 2 equals 3.\n",
        "Remember, the order of operations (PEMDAS/BODMAS) applies in arithmetic expressions. This means that Parentheses/Brackets, Exponents/Orders, Multiplication and Division, and Addition and Subtraction are performed in this order. For example, in the expression 3 + 2 * 4, the multiplication is performed first, resulting in 3 + 8, and then the addition is performed, resulting in 11."
      ],
      "metadata": {
        "id": "i3KJ35QHTr64"
      }
    },
    {
      "cell_type": "code",
      "source": [
        "# Define the numbers\n",
        "num1 = 5\n",
        "num2 = 3\n",
        "num3 = 2\n",
        "\n",
        "# Multiply num1 and num2\n",
        "product = num1 * num2\n",
        "\n",
        "# Add num3 to the product\n",
        "result = product + num3\n",
        "\n",
        "print(f\"The result of multiplying {num1} and {num2}, and then adding {num3} is: {result}\")\n"
      ],
      "metadata": {
        "colab": {
          "base_uri": "https://localhost:8080/"
        },
        "id": "VN-6MD_NT5K-",
        "outputId": "b48d80a4-c6f6-4ca5-fbec-5296400ffe7b"
      },
      "execution_count": 1,
      "outputs": [
        {
          "output_type": "stream",
          "name": "stdout",
          "text": [
            "The result of multiplying 5 and 3, and then adding 2 is: 17\n"
          ]
        }
      ]
    },
    {
      "cell_type": "code",
      "source": [
        "# Define the number of minutes\n",
        "minutes = 120\n",
        "\n",
        "# Convert minutes to hours\n",
        "hours = minutes / 60\n",
        "\n",
        "print(f\"{minutes} minutes is equal to {hours} hours.\")\n"
      ],
      "metadata": {
        "colab": {
          "base_uri": "https://localhost:8080/"
        },
        "id": "CkBRvkWoUFK6",
        "outputId": "14e76f1b-c1b9-4e02-adba-5edbe7b7dda5"
      },
      "execution_count": 2,
      "outputs": [
        {
          "output_type": "stream",
          "name": "stdout",
          "text": [
            "120 minutes is equal to 2.0 hours.\n"
          ]
        }
      ]
    },
    {
      "cell_type": "markdown",
      "source": [
        "Build your subject-matter expertise: This course is available as part of a specific program. When you enroll, you’ll be asked to select a specific program to build your expertise in that subject.\n",
        "\n",
        "Learn new concepts from industry experts: The course provides an opportunity to learn new concepts and skills from industry experts.\n",
        "\n",
        "Gain a foundational understanding of a subject or tool: The course is designed to help you gain a foundational understanding of a specific subject or tool.\n",
        "\n",
        "Develop job-relevant skills with hands-on projects: The course includes hands-on projects to help you develop job-relevant skills.\n",
        "\n",
        "Earn a shareable career certificate: Upon completion of the course, you’ll earn a career certificate that you can share with potential employers or your professional network."
      ],
      "metadata": {
        "id": "S8H4P6OmVZOD"
      }
    },
    {
      "cell_type": "markdown",
      "source": [
        "Name: Mafron Ronaldo Fernandes"
      ],
      "metadata": {
        "id": "mJPK-sIhVj3a"
      }
    }
  ]
}